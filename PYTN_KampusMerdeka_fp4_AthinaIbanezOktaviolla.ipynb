{
 "cells": [
  {
   "cell_type": "markdown",
   "metadata": {},
   "source": [
    "<center><h1>Final Project 4</h1></center>\n",
    "<center><h4>Athina Ibanez Oktaviolla || PYTN-KS01-009</h4></center>\n",
    "<hr>"
   ]
  },
  {
   "cell_type": "markdown",
   "metadata": {},
   "source": [
    "## A. Project Overview\n",
    "\n",
    "#### Latar Belakang\n",
    "Data ini berisi transaksi pengguna kartu kredit sebanyak 9000 orang selama 6 bulan. Data\n",
    "ini memiliki 18 atribut.\n",
    "\n",
    "#### Tujuan\n",
    "1. Mampu memahami konsep Clustering dengan menggunakan Scikit-Learn\n",
    "2. Mampu mempersiapkan data untuk digunakan dalam Clustering\n",
    "3. Mampu mengimplementasikan Clustering pada data yang diberikan\n",
    "\n",
    "#### Data yang digunakan\n",
    "1. Sumber: https://www.kaggle.com/arjunbhasin2013/ccdata\n",
    "2. Jumlah data: 8950 baris, 18 kolom\n",
    "3. Feature: 18 Features"
   ]
  },
  {
   "cell_type": "markdown",
   "metadata": {},
   "source": [
    "## B. Import Library yang Dibutuhkan"
   ]
  },
  {
   "cell_type": "code",
   "execution_count": 21,
   "metadata": {},
   "outputs": [],
   "source": [
    "#import library\n",
    "import pandas as pd\n",
    "import numpy as np\n",
    "import matplotlib.pyplot as plt\n",
    "from sklearn.cluster import KMeans\n",
    "from sklearn.preprocessing import StandardScaler\n",
    "from sklearn.decomposition import PCA\n",
    "from yellowbrick.cluster import KElbowVisualizer\n",
    "from sklearn.metrics import davies_bouldin_score\n",
    "from sklearn.metrics import silhouette_score\n",
    "%matplotlib inline"
   ]
  },
  {
   "cell_type": "markdown",
   "metadata": {},
   "source": [
    "## C. Data Loading"
   ]
  },
  {
   "cell_type": "code",
   "execution_count": 2,
   "metadata": {},
   "outputs": [],
   "source": [
    "#load data\n",
    "df = pd.read_csv(\"dataset/CC_GENERAL.csv\")"
   ]
  },
  {
   "cell_type": "code",
   "execution_count": 3,
   "metadata": {},
   "outputs": [
    {
     "data": {
      "text/html": [
       "<div>\n",
       "<style scoped>\n",
       "    .dataframe tbody tr th:only-of-type {\n",
       "        vertical-align: middle;\n",
       "    }\n",
       "\n",
       "    .dataframe tbody tr th {\n",
       "        vertical-align: top;\n",
       "    }\n",
       "\n",
       "    .dataframe thead th {\n",
       "        text-align: right;\n",
       "    }\n",
       "</style>\n",
       "<table border=\"1\" class=\"dataframe\">\n",
       "  <thead>\n",
       "    <tr style=\"text-align: right;\">\n",
       "      <th></th>\n",
       "      <th>CUST_ID</th>\n",
       "      <th>BALANCE</th>\n",
       "      <th>BALANCE_FREQUENCY</th>\n",
       "      <th>PURCHASES</th>\n",
       "      <th>ONEOFF_PURCHASES</th>\n",
       "      <th>INSTALLMENTS_PURCHASES</th>\n",
       "      <th>CASH_ADVANCE</th>\n",
       "      <th>PURCHASES_FREQUENCY</th>\n",
       "      <th>ONEOFF_PURCHASES_FREQUENCY</th>\n",
       "      <th>PURCHASES_INSTALLMENTS_FREQUENCY</th>\n",
       "      <th>CASH_ADVANCE_FREQUENCY</th>\n",
       "      <th>CASH_ADVANCE_TRX</th>\n",
       "      <th>PURCHASES_TRX</th>\n",
       "      <th>CREDIT_LIMIT</th>\n",
       "      <th>PAYMENTS</th>\n",
       "      <th>MINIMUM_PAYMENTS</th>\n",
       "      <th>PRC_FULL_PAYMENT</th>\n",
       "      <th>TENURE</th>\n",
       "    </tr>\n",
       "  </thead>\n",
       "  <tbody>\n",
       "    <tr>\n",
       "      <th>0</th>\n",
       "      <td>C10001</td>\n",
       "      <td>40.900749</td>\n",
       "      <td>0.818182</td>\n",
       "      <td>95.40</td>\n",
       "      <td>0.00</td>\n",
       "      <td>95.4</td>\n",
       "      <td>0.000000</td>\n",
       "      <td>0.166667</td>\n",
       "      <td>0.000000</td>\n",
       "      <td>0.083333</td>\n",
       "      <td>0.000000</td>\n",
       "      <td>0</td>\n",
       "      <td>2</td>\n",
       "      <td>1000.0</td>\n",
       "      <td>201.802084</td>\n",
       "      <td>139.509787</td>\n",
       "      <td>0.000000</td>\n",
       "      <td>12</td>\n",
       "    </tr>\n",
       "    <tr>\n",
       "      <th>1</th>\n",
       "      <td>C10002</td>\n",
       "      <td>3202.467416</td>\n",
       "      <td>0.909091</td>\n",
       "      <td>0.00</td>\n",
       "      <td>0.00</td>\n",
       "      <td>0.0</td>\n",
       "      <td>6442.945483</td>\n",
       "      <td>0.000000</td>\n",
       "      <td>0.000000</td>\n",
       "      <td>0.000000</td>\n",
       "      <td>0.250000</td>\n",
       "      <td>4</td>\n",
       "      <td>0</td>\n",
       "      <td>7000.0</td>\n",
       "      <td>4103.032597</td>\n",
       "      <td>1072.340217</td>\n",
       "      <td>0.222222</td>\n",
       "      <td>12</td>\n",
       "    </tr>\n",
       "    <tr>\n",
       "      <th>2</th>\n",
       "      <td>C10003</td>\n",
       "      <td>2495.148862</td>\n",
       "      <td>1.000000</td>\n",
       "      <td>773.17</td>\n",
       "      <td>773.17</td>\n",
       "      <td>0.0</td>\n",
       "      <td>0.000000</td>\n",
       "      <td>1.000000</td>\n",
       "      <td>1.000000</td>\n",
       "      <td>0.000000</td>\n",
       "      <td>0.000000</td>\n",
       "      <td>0</td>\n",
       "      <td>12</td>\n",
       "      <td>7500.0</td>\n",
       "      <td>622.066742</td>\n",
       "      <td>627.284787</td>\n",
       "      <td>0.000000</td>\n",
       "      <td>12</td>\n",
       "    </tr>\n",
       "    <tr>\n",
       "      <th>3</th>\n",
       "      <td>C10004</td>\n",
       "      <td>1666.670542</td>\n",
       "      <td>0.636364</td>\n",
       "      <td>1499.00</td>\n",
       "      <td>1499.00</td>\n",
       "      <td>0.0</td>\n",
       "      <td>205.788017</td>\n",
       "      <td>0.083333</td>\n",
       "      <td>0.083333</td>\n",
       "      <td>0.000000</td>\n",
       "      <td>0.083333</td>\n",
       "      <td>1</td>\n",
       "      <td>1</td>\n",
       "      <td>7500.0</td>\n",
       "      <td>0.000000</td>\n",
       "      <td>NaN</td>\n",
       "      <td>0.000000</td>\n",
       "      <td>12</td>\n",
       "    </tr>\n",
       "    <tr>\n",
       "      <th>4</th>\n",
       "      <td>C10005</td>\n",
       "      <td>817.714335</td>\n",
       "      <td>1.000000</td>\n",
       "      <td>16.00</td>\n",
       "      <td>16.00</td>\n",
       "      <td>0.0</td>\n",
       "      <td>0.000000</td>\n",
       "      <td>0.083333</td>\n",
       "      <td>0.083333</td>\n",
       "      <td>0.000000</td>\n",
       "      <td>0.000000</td>\n",
       "      <td>0</td>\n",
       "      <td>1</td>\n",
       "      <td>1200.0</td>\n",
       "      <td>678.334763</td>\n",
       "      <td>244.791237</td>\n",
       "      <td>0.000000</td>\n",
       "      <td>12</td>\n",
       "    </tr>\n",
       "  </tbody>\n",
       "</table>\n",
       "</div>"
      ],
      "text/plain": [
       "  CUST_ID      BALANCE  BALANCE_FREQUENCY  PURCHASES  ONEOFF_PURCHASES  \\\n",
       "0  C10001    40.900749           0.818182      95.40              0.00   \n",
       "1  C10002  3202.467416           0.909091       0.00              0.00   \n",
       "2  C10003  2495.148862           1.000000     773.17            773.17   \n",
       "3  C10004  1666.670542           0.636364    1499.00           1499.00   \n",
       "4  C10005   817.714335           1.000000      16.00             16.00   \n",
       "\n",
       "   INSTALLMENTS_PURCHASES  CASH_ADVANCE  PURCHASES_FREQUENCY  \\\n",
       "0                    95.4      0.000000             0.166667   \n",
       "1                     0.0   6442.945483             0.000000   \n",
       "2                     0.0      0.000000             1.000000   \n",
       "3                     0.0    205.788017             0.083333   \n",
       "4                     0.0      0.000000             0.083333   \n",
       "\n",
       "   ONEOFF_PURCHASES_FREQUENCY  PURCHASES_INSTALLMENTS_FREQUENCY  \\\n",
       "0                    0.000000                          0.083333   \n",
       "1                    0.000000                          0.000000   \n",
       "2                    1.000000                          0.000000   \n",
       "3                    0.083333                          0.000000   \n",
       "4                    0.083333                          0.000000   \n",
       "\n",
       "   CASH_ADVANCE_FREQUENCY  CASH_ADVANCE_TRX  PURCHASES_TRX  CREDIT_LIMIT  \\\n",
       "0                0.000000                 0              2        1000.0   \n",
       "1                0.250000                 4              0        7000.0   \n",
       "2                0.000000                 0             12        7500.0   \n",
       "3                0.083333                 1              1        7500.0   \n",
       "4                0.000000                 0              1        1200.0   \n",
       "\n",
       "      PAYMENTS  MINIMUM_PAYMENTS  PRC_FULL_PAYMENT  TENURE  \n",
       "0   201.802084        139.509787          0.000000      12  \n",
       "1  4103.032597       1072.340217          0.222222      12  \n",
       "2   622.066742        627.284787          0.000000      12  \n",
       "3     0.000000               NaN          0.000000      12  \n",
       "4   678.334763        244.791237          0.000000      12  "
      ]
     },
     "execution_count": 3,
     "metadata": {},
     "output_type": "execute_result"
    }
   ],
   "source": [
    "#melihat 5 baris teratas dari dataset\n",
    "df.head()"
   ]
  },
  {
   "cell_type": "code",
   "execution_count": 4,
   "metadata": {},
   "outputs": [
    {
     "data": {
      "text/html": [
       "<div>\n",
       "<style scoped>\n",
       "    .dataframe tbody tr th:only-of-type {\n",
       "        vertical-align: middle;\n",
       "    }\n",
       "\n",
       "    .dataframe tbody tr th {\n",
       "        vertical-align: top;\n",
       "    }\n",
       "\n",
       "    .dataframe thead th {\n",
       "        text-align: right;\n",
       "    }\n",
       "</style>\n",
       "<table border=\"1\" class=\"dataframe\">\n",
       "  <thead>\n",
       "    <tr style=\"text-align: right;\">\n",
       "      <th></th>\n",
       "      <th>CUST_ID</th>\n",
       "      <th>BALANCE</th>\n",
       "      <th>BALANCE_FREQUENCY</th>\n",
       "      <th>PURCHASES</th>\n",
       "      <th>ONEOFF_PURCHASES</th>\n",
       "      <th>INSTALLMENTS_PURCHASES</th>\n",
       "      <th>CASH_ADVANCE</th>\n",
       "      <th>PURCHASES_FREQUENCY</th>\n",
       "      <th>ONEOFF_PURCHASES_FREQUENCY</th>\n",
       "      <th>PURCHASES_INSTALLMENTS_FREQUENCY</th>\n",
       "      <th>CASH_ADVANCE_FREQUENCY</th>\n",
       "      <th>CASH_ADVANCE_TRX</th>\n",
       "      <th>PURCHASES_TRX</th>\n",
       "      <th>CREDIT_LIMIT</th>\n",
       "      <th>PAYMENTS</th>\n",
       "      <th>MINIMUM_PAYMENTS</th>\n",
       "      <th>PRC_FULL_PAYMENT</th>\n",
       "      <th>TENURE</th>\n",
       "    </tr>\n",
       "  </thead>\n",
       "  <tbody>\n",
       "    <tr>\n",
       "      <th>8945</th>\n",
       "      <td>C19186</td>\n",
       "      <td>28.493517</td>\n",
       "      <td>1.000000</td>\n",
       "      <td>291.12</td>\n",
       "      <td>0.00</td>\n",
       "      <td>291.12</td>\n",
       "      <td>0.000000</td>\n",
       "      <td>1.000000</td>\n",
       "      <td>0.000000</td>\n",
       "      <td>0.833333</td>\n",
       "      <td>0.000000</td>\n",
       "      <td>0</td>\n",
       "      <td>6</td>\n",
       "      <td>1000.0</td>\n",
       "      <td>325.594462</td>\n",
       "      <td>48.886365</td>\n",
       "      <td>0.50</td>\n",
       "      <td>6</td>\n",
       "    </tr>\n",
       "    <tr>\n",
       "      <th>8946</th>\n",
       "      <td>C19187</td>\n",
       "      <td>19.183215</td>\n",
       "      <td>1.000000</td>\n",
       "      <td>300.00</td>\n",
       "      <td>0.00</td>\n",
       "      <td>300.00</td>\n",
       "      <td>0.000000</td>\n",
       "      <td>1.000000</td>\n",
       "      <td>0.000000</td>\n",
       "      <td>0.833333</td>\n",
       "      <td>0.000000</td>\n",
       "      <td>0</td>\n",
       "      <td>6</td>\n",
       "      <td>1000.0</td>\n",
       "      <td>275.861322</td>\n",
       "      <td>NaN</td>\n",
       "      <td>0.00</td>\n",
       "      <td>6</td>\n",
       "    </tr>\n",
       "    <tr>\n",
       "      <th>8947</th>\n",
       "      <td>C19188</td>\n",
       "      <td>23.398673</td>\n",
       "      <td>0.833333</td>\n",
       "      <td>144.40</td>\n",
       "      <td>0.00</td>\n",
       "      <td>144.40</td>\n",
       "      <td>0.000000</td>\n",
       "      <td>0.833333</td>\n",
       "      <td>0.000000</td>\n",
       "      <td>0.666667</td>\n",
       "      <td>0.000000</td>\n",
       "      <td>0</td>\n",
       "      <td>5</td>\n",
       "      <td>1000.0</td>\n",
       "      <td>81.270775</td>\n",
       "      <td>82.418369</td>\n",
       "      <td>0.25</td>\n",
       "      <td>6</td>\n",
       "    </tr>\n",
       "    <tr>\n",
       "      <th>8948</th>\n",
       "      <td>C19189</td>\n",
       "      <td>13.457564</td>\n",
       "      <td>0.833333</td>\n",
       "      <td>0.00</td>\n",
       "      <td>0.00</td>\n",
       "      <td>0.00</td>\n",
       "      <td>36.558778</td>\n",
       "      <td>0.000000</td>\n",
       "      <td>0.000000</td>\n",
       "      <td>0.000000</td>\n",
       "      <td>0.166667</td>\n",
       "      <td>2</td>\n",
       "      <td>0</td>\n",
       "      <td>500.0</td>\n",
       "      <td>52.549959</td>\n",
       "      <td>55.755628</td>\n",
       "      <td>0.25</td>\n",
       "      <td>6</td>\n",
       "    </tr>\n",
       "    <tr>\n",
       "      <th>8949</th>\n",
       "      <td>C19190</td>\n",
       "      <td>372.708075</td>\n",
       "      <td>0.666667</td>\n",
       "      <td>1093.25</td>\n",
       "      <td>1093.25</td>\n",
       "      <td>0.00</td>\n",
       "      <td>127.040008</td>\n",
       "      <td>0.666667</td>\n",
       "      <td>0.666667</td>\n",
       "      <td>0.000000</td>\n",
       "      <td>0.333333</td>\n",
       "      <td>2</td>\n",
       "      <td>23</td>\n",
       "      <td>1200.0</td>\n",
       "      <td>63.165404</td>\n",
       "      <td>88.288956</td>\n",
       "      <td>0.00</td>\n",
       "      <td>6</td>\n",
       "    </tr>\n",
       "  </tbody>\n",
       "</table>\n",
       "</div>"
      ],
      "text/plain": [
       "     CUST_ID     BALANCE  BALANCE_FREQUENCY  PURCHASES  ONEOFF_PURCHASES  \\\n",
       "8945  C19186   28.493517           1.000000     291.12              0.00   \n",
       "8946  C19187   19.183215           1.000000     300.00              0.00   \n",
       "8947  C19188   23.398673           0.833333     144.40              0.00   \n",
       "8948  C19189   13.457564           0.833333       0.00              0.00   \n",
       "8949  C19190  372.708075           0.666667    1093.25           1093.25   \n",
       "\n",
       "      INSTALLMENTS_PURCHASES  CASH_ADVANCE  PURCHASES_FREQUENCY  \\\n",
       "8945                  291.12      0.000000             1.000000   \n",
       "8946                  300.00      0.000000             1.000000   \n",
       "8947                  144.40      0.000000             0.833333   \n",
       "8948                    0.00     36.558778             0.000000   \n",
       "8949                    0.00    127.040008             0.666667   \n",
       "\n",
       "      ONEOFF_PURCHASES_FREQUENCY  PURCHASES_INSTALLMENTS_FREQUENCY  \\\n",
       "8945                    0.000000                          0.833333   \n",
       "8946                    0.000000                          0.833333   \n",
       "8947                    0.000000                          0.666667   \n",
       "8948                    0.000000                          0.000000   \n",
       "8949                    0.666667                          0.000000   \n",
       "\n",
       "      CASH_ADVANCE_FREQUENCY  CASH_ADVANCE_TRX  PURCHASES_TRX  CREDIT_LIMIT  \\\n",
       "8945                0.000000                 0              6        1000.0   \n",
       "8946                0.000000                 0              6        1000.0   \n",
       "8947                0.000000                 0              5        1000.0   \n",
       "8948                0.166667                 2              0         500.0   \n",
       "8949                0.333333                 2             23        1200.0   \n",
       "\n",
       "        PAYMENTS  MINIMUM_PAYMENTS  PRC_FULL_PAYMENT  TENURE  \n",
       "8945  325.594462         48.886365              0.50       6  \n",
       "8946  275.861322               NaN              0.00       6  \n",
       "8947   81.270775         82.418369              0.25       6  \n",
       "8948   52.549959         55.755628              0.25       6  \n",
       "8949   63.165404         88.288956              0.00       6  "
      ]
     },
     "execution_count": 4,
     "metadata": {},
     "output_type": "execute_result"
    }
   ],
   "source": [
    "#melihat 5 baris terakhir dataset\n",
    "df.tail()"
   ]
  },
  {
   "cell_type": "code",
   "execution_count": 5,
   "metadata": {},
   "outputs": [
    {
     "data": {
      "text/plain": [
       "(8950, 18)"
      ]
     },
     "execution_count": 5,
     "metadata": {},
     "output_type": "execute_result"
    }
   ],
   "source": [
    "#melihat ukuran dataset\n",
    "df.shape"
   ]
  },
  {
   "cell_type": "code",
   "execution_count": 6,
   "metadata": {},
   "outputs": [
    {
     "name": "stdout",
     "output_type": "stream",
     "text": [
      "<class 'pandas.core.frame.DataFrame'>\n",
      "RangeIndex: 8950 entries, 0 to 8949\n",
      "Data columns (total 18 columns):\n",
      " #   Column                            Non-Null Count  Dtype  \n",
      "---  ------                            --------------  -----  \n",
      " 0   CUST_ID                           8950 non-null   object \n",
      " 1   BALANCE                           8950 non-null   float64\n",
      " 2   BALANCE_FREQUENCY                 8950 non-null   float64\n",
      " 3   PURCHASES                         8950 non-null   float64\n",
      " 4   ONEOFF_PURCHASES                  8950 non-null   float64\n",
      " 5   INSTALLMENTS_PURCHASES            8950 non-null   float64\n",
      " 6   CASH_ADVANCE                      8950 non-null   float64\n",
      " 7   PURCHASES_FREQUENCY               8950 non-null   float64\n",
      " 8   ONEOFF_PURCHASES_FREQUENCY        8950 non-null   float64\n",
      " 9   PURCHASES_INSTALLMENTS_FREQUENCY  8950 non-null   float64\n",
      " 10  CASH_ADVANCE_FREQUENCY            8950 non-null   float64\n",
      " 11  CASH_ADVANCE_TRX                  8950 non-null   int64  \n",
      " 12  PURCHASES_TRX                     8950 non-null   int64  \n",
      " 13  CREDIT_LIMIT                      8949 non-null   float64\n",
      " 14  PAYMENTS                          8950 non-null   float64\n",
      " 15  MINIMUM_PAYMENTS                  8637 non-null   float64\n",
      " 16  PRC_FULL_PAYMENT                  8950 non-null   float64\n",
      " 17  TENURE                            8950 non-null   int64  \n",
      "dtypes: float64(14), int64(3), object(1)\n",
      "memory usage: 1.2+ MB\n"
     ]
    }
   ],
   "source": [
    "#melihat informasi dari setiap kolom\n",
    "df.info()"
   ]
  },
  {
   "cell_type": "markdown",
   "metadata": {},
   "source": [
    "NOTE!! <br>\n",
    "Hanya 1 feature yang bertype object."
   ]
  },
  {
   "cell_type": "code",
   "execution_count": 7,
   "metadata": {},
   "outputs": [
    {
     "data": {
      "text/html": [
       "<div>\n",
       "<style scoped>\n",
       "    .dataframe tbody tr th:only-of-type {\n",
       "        vertical-align: middle;\n",
       "    }\n",
       "\n",
       "    .dataframe tbody tr th {\n",
       "        vertical-align: top;\n",
       "    }\n",
       "\n",
       "    .dataframe thead th {\n",
       "        text-align: right;\n",
       "    }\n",
       "</style>\n",
       "<table border=\"1\" class=\"dataframe\">\n",
       "  <thead>\n",
       "    <tr style=\"text-align: right;\">\n",
       "      <th></th>\n",
       "      <th>CUST_ID</th>\n",
       "    </tr>\n",
       "  </thead>\n",
       "  <tbody>\n",
       "    <tr>\n",
       "      <th>count</th>\n",
       "      <td>8950</td>\n",
       "    </tr>\n",
       "    <tr>\n",
       "      <th>unique</th>\n",
       "      <td>8950</td>\n",
       "    </tr>\n",
       "    <tr>\n",
       "      <th>top</th>\n",
       "      <td>C11677</td>\n",
       "    </tr>\n",
       "    <tr>\n",
       "      <th>freq</th>\n",
       "      <td>1</td>\n",
       "    </tr>\n",
       "  </tbody>\n",
       "</table>\n",
       "</div>"
      ],
      "text/plain": [
       "       CUST_ID\n",
       "count     8950\n",
       "unique    8950\n",
       "top     C11677\n",
       "freq         1"
      ]
     },
     "execution_count": 7,
     "metadata": {},
     "output_type": "execute_result"
    }
   ],
   "source": [
    "df.describe(include = \"O\")"
   ]
  },
  {
   "cell_type": "markdown",
   "metadata": {},
   "source": [
    "NOTE!! <br>\n",
    "Terlalu banyak unique values, kolom CUST_ID akan di drop"
   ]
  },
  {
   "cell_type": "code",
   "execution_count": 8,
   "metadata": {},
   "outputs": [
    {
     "data": {
      "text/plain": [
       "CUST_ID                               0\n",
       "BALANCE                               0\n",
       "BALANCE_FREQUENCY                     0\n",
       "PURCHASES                             0\n",
       "ONEOFF_PURCHASES                      0\n",
       "INSTALLMENTS_PURCHASES                0\n",
       "CASH_ADVANCE                          0\n",
       "PURCHASES_FREQUENCY                   0\n",
       "ONEOFF_PURCHASES_FREQUENCY            0\n",
       "PURCHASES_INSTALLMENTS_FREQUENCY      0\n",
       "CASH_ADVANCE_FREQUENCY                0\n",
       "CASH_ADVANCE_TRX                      0\n",
       "PURCHASES_TRX                         0\n",
       "CREDIT_LIMIT                          1\n",
       "PAYMENTS                              0\n",
       "MINIMUM_PAYMENTS                    313\n",
       "PRC_FULL_PAYMENT                      0\n",
       "TENURE                                0\n",
       "dtype: int64"
      ]
     },
     "execution_count": 8,
     "metadata": {},
     "output_type": "execute_result"
    }
   ],
   "source": [
    "#melihat missing value dari masing-masing kolom\n",
    "df.isna().sum()"
   ]
  },
  {
   "cell_type": "markdown",
   "metadata": {},
   "source": [
    "NOTE!! <br>\n",
    "    Terdapat 31 nilai null pada kolom MINIMUM_PAYMENTS dan 1 null pada kolom CREDIT_LIMIT"
   ]
  },
  {
   "cell_type": "markdown",
   "metadata": {},
   "source": [
    "## D. Data Cleaning"
   ]
  },
  {
   "cell_type": "code",
   "execution_count": 9,
   "metadata": {},
   "outputs": [],
   "source": [
    "#drop CUST_ID\n",
    "df = df.drop(columns = [\"CUST_ID\"])"
   ]
  },
  {
   "cell_type": "code",
   "execution_count": 10,
   "metadata": {},
   "outputs": [],
   "source": [
    "#drop null values\n",
    "df.dropna(inplace=True)"
   ]
  },
  {
   "cell_type": "code",
   "execution_count": 11,
   "metadata": {},
   "outputs": [
    {
     "data": {
      "text/plain": [
       "BALANCE                             0\n",
       "BALANCE_FREQUENCY                   0\n",
       "PURCHASES                           0\n",
       "ONEOFF_PURCHASES                    0\n",
       "INSTALLMENTS_PURCHASES              0\n",
       "CASH_ADVANCE                        0\n",
       "PURCHASES_FREQUENCY                 0\n",
       "ONEOFF_PURCHASES_FREQUENCY          0\n",
       "PURCHASES_INSTALLMENTS_FREQUENCY    0\n",
       "CASH_ADVANCE_FREQUENCY              0\n",
       "CASH_ADVANCE_TRX                    0\n",
       "PURCHASES_TRX                       0\n",
       "CREDIT_LIMIT                        0\n",
       "PAYMENTS                            0\n",
       "MINIMUM_PAYMENTS                    0\n",
       "PRC_FULL_PAYMENT                    0\n",
       "TENURE                              0\n",
       "dtype: int64"
      ]
     },
     "execution_count": 11,
     "metadata": {},
     "output_type": "execute_result"
    }
   ],
   "source": [
    "df.isna().sum()"
   ]
  },
  {
   "cell_type": "code",
   "execution_count": 12,
   "metadata": {},
   "outputs": [
    {
     "data": {
      "text/plain": [
       "['BALANCE',\n",
       " 'BALANCE_FREQUENCY',\n",
       " 'PURCHASES',\n",
       " 'ONEOFF_PURCHASES',\n",
       " 'INSTALLMENTS_PURCHASES',\n",
       " 'CASH_ADVANCE',\n",
       " 'PURCHASES_FREQUENCY',\n",
       " 'ONEOFF_PURCHASES_FREQUENCY',\n",
       " 'PURCHASES_INSTALLMENTS_FREQUENCY',\n",
       " 'CASH_ADVANCE_FREQUENCY',\n",
       " 'CASH_ADVANCE_TRX',\n",
       " 'PURCHASES_TRX',\n",
       " 'CREDIT_LIMIT',\n",
       " 'PAYMENTS',\n",
       " 'MINIMUM_PAYMENTS',\n",
       " 'PRC_FULL_PAYMENT',\n",
       " 'TENURE']"
      ]
     },
     "execution_count": 12,
     "metadata": {},
     "output_type": "execute_result"
    }
   ],
   "source": [
    "#mengambil nama kolom\n",
    "kolom = [col for col in df.columns]\n",
    "kolom"
   ]
  },
  {
   "cell_type": "code",
   "execution_count": 13,
   "metadata": {},
   "outputs": [],
   "source": [
    "#menghapus ouliers\n",
    "for feature in kolom:\n",
    "    q1 = df[feature].quantile(0.25)\n",
    "    q3 = df[feature].quantile(0.75)\n",
    "    IQR = q3-q1\n",
    "    lower_limit = q1 - (IQR*1.5)\n",
    "    upper_limit = q3 + (IQR*1.5)\n",
    "    df.loc[df[feature]<lower_limit, feature] = lower_limit\n",
    "    df.loc[df[feature]>upper_limit, feature] = upper_limit "
   ]
  },
  {
   "cell_type": "markdown",
   "metadata": {},
   "source": [
    "## E. Data Preprocessing"
   ]
  },
  {
   "cell_type": "code",
   "execution_count": 14,
   "metadata": {},
   "outputs": [],
   "source": [
    "#using standart scaler\n",
    "std_data = pd.DataFrame(StandardScaler().fit_transform(df), columns=df.columns)"
   ]
  },
  {
   "cell_type": "code",
   "execution_count": 15,
   "metadata": {},
   "outputs": [
    {
     "data": {
      "text/html": [
       "<div>\n",
       "<style scoped>\n",
       "    .dataframe tbody tr th:only-of-type {\n",
       "        vertical-align: middle;\n",
       "    }\n",
       "\n",
       "    .dataframe tbody tr th {\n",
       "        vertical-align: top;\n",
       "    }\n",
       "\n",
       "    .dataframe thead th {\n",
       "        text-align: right;\n",
       "    }\n",
       "</style>\n",
       "<table border=\"1\" class=\"dataframe\">\n",
       "  <thead>\n",
       "    <tr style=\"text-align: right;\">\n",
       "      <th></th>\n",
       "      <th>BALANCE</th>\n",
       "      <th>BALANCE_FREQUENCY</th>\n",
       "      <th>PURCHASES</th>\n",
       "      <th>ONEOFF_PURCHASES</th>\n",
       "      <th>INSTALLMENTS_PURCHASES</th>\n",
       "      <th>CASH_ADVANCE</th>\n",
       "      <th>PURCHASES_FREQUENCY</th>\n",
       "      <th>ONEOFF_PURCHASES_FREQUENCY</th>\n",
       "      <th>PURCHASES_INSTALLMENTS_FREQUENCY</th>\n",
       "      <th>CASH_ADVANCE_FREQUENCY</th>\n",
       "      <th>CASH_ADVANCE_TRX</th>\n",
       "      <th>PURCHASES_TRX</th>\n",
       "      <th>CREDIT_LIMIT</th>\n",
       "      <th>PAYMENTS</th>\n",
       "      <th>MINIMUM_PAYMENTS</th>\n",
       "      <th>PRC_FULL_PAYMENT</th>\n",
       "      <th>TENURE</th>\n",
       "    </tr>\n",
       "  </thead>\n",
       "  <tbody>\n",
       "    <tr>\n",
       "      <th>count</th>\n",
       "      <td>8.636000e+03</td>\n",
       "      <td>8.636000e+03</td>\n",
       "      <td>8.636000e+03</td>\n",
       "      <td>8.636000e+03</td>\n",
       "      <td>8.636000e+03</td>\n",
       "      <td>8.636000e+03</td>\n",
       "      <td>8.636000e+03</td>\n",
       "      <td>8.636000e+03</td>\n",
       "      <td>8.636000e+03</td>\n",
       "      <td>8.636000e+03</td>\n",
       "      <td>8.636000e+03</td>\n",
       "      <td>8.636000e+03</td>\n",
       "      <td>8.636000e+03</td>\n",
       "      <td>8.636000e+03</td>\n",
       "      <td>8.636000e+03</td>\n",
       "      <td>8.636000e+03</td>\n",
       "      <td>8636.0</td>\n",
       "    </tr>\n",
       "    <tr>\n",
       "      <th>mean</th>\n",
       "      <td>-2.048128e-15</td>\n",
       "      <td>-4.480411e-15</td>\n",
       "      <td>-2.387031e-15</td>\n",
       "      <td>-6.029632e-15</td>\n",
       "      <td>1.977215e-15</td>\n",
       "      <td>3.596655e-16</td>\n",
       "      <td>-2.185028e-16</td>\n",
       "      <td>-1.052773e-14</td>\n",
       "      <td>-2.426601e-15</td>\n",
       "      <td>7.822213e-16</td>\n",
       "      <td>1.944292e-15</td>\n",
       "      <td>2.171029e-15</td>\n",
       "      <td>5.213523e-16</td>\n",
       "      <td>2.285239e-16</td>\n",
       "      <td>2.325593e-15</td>\n",
       "      <td>-3.423655e-15</td>\n",
       "      <td>0.0</td>\n",
       "    </tr>\n",
       "    <tr>\n",
       "      <th>std</th>\n",
       "      <td>1.000058e+00</td>\n",
       "      <td>1.000058e+00</td>\n",
       "      <td>1.000058e+00</td>\n",
       "      <td>1.000058e+00</td>\n",
       "      <td>1.000058e+00</td>\n",
       "      <td>1.000058e+00</td>\n",
       "      <td>1.000058e+00</td>\n",
       "      <td>1.000058e+00</td>\n",
       "      <td>1.000058e+00</td>\n",
       "      <td>1.000058e+00</td>\n",
       "      <td>1.000058e+00</td>\n",
       "      <td>1.000058e+00</td>\n",
       "      <td>1.000058e+00</td>\n",
       "      <td>1.000058e+00</td>\n",
       "      <td>1.000058e+00</td>\n",
       "      <td>1.000058e+00</td>\n",
       "      <td>0.0</td>\n",
       "    </tr>\n",
       "    <tr>\n",
       "      <th>min</th>\n",
       "      <td>-9.172833e-01</td>\n",
       "      <td>-1.900785e+00</td>\n",
       "      <td>-8.400807e-01</td>\n",
       "      <td>-6.934480e-01</td>\n",
       "      <td>-7.491423e-01</td>\n",
       "      <td>-6.759645e-01</td>\n",
       "      <td>-1.236139e+00</td>\n",
       "      <td>-7.132856e-01</td>\n",
       "      <td>-9.265216e-01</td>\n",
       "      <td>-7.211393e-01</td>\n",
       "      <td>-7.043358e-01</td>\n",
       "      <td>-8.856236e-01</td>\n",
       "      <td>-1.292439e+00</td>\n",
       "      <td>-1.086843e+00</td>\n",
       "      <td>-1.026563e+00</td>\n",
       "      <td>-6.294799e-01</td>\n",
       "      <td>0.0</td>\n",
       "    </tr>\n",
       "    <tr>\n",
       "      <th>25%</th>\n",
       "      <td>-8.222803e-01</td>\n",
       "      <td>-3.969001e-01</td>\n",
       "      <td>-7.920474e-01</td>\n",
       "      <td>-6.934480e-01</td>\n",
       "      <td>-7.491423e-01</td>\n",
       "      <td>-6.759645e-01</td>\n",
       "      <td>-1.028455e+00</td>\n",
       "      <td>-7.132856e-01</td>\n",
       "      <td>-9.265216e-01</td>\n",
       "      <td>-7.211393e-01</td>\n",
       "      <td>-7.043358e-01</td>\n",
       "      <td>-8.121816e-01</td>\n",
       "      <td>-8.366775e-01</td>\n",
       "      <td>-7.610356e-01</td>\n",
       "      <td>-7.246931e-01</td>\n",
       "      <td>-6.294799e-01</td>\n",
       "      <td>0.0</td>\n",
       "    </tr>\n",
       "    <tr>\n",
       "      <th>50%</th>\n",
       "      <td>-3.291209e-01</td>\n",
       "      <td>6.056898e-01</td>\n",
       "      <td>-4.242867e-01</td>\n",
       "      <td>-6.081817e-01</td>\n",
       "      <td>-5.165161e-01</td>\n",
       "      <td>-6.759645e-01</td>\n",
       "      <td>9.968862e-03</td>\n",
       "      <td>-4.089523e-01</td>\n",
       "      <td>-5.078338e-01</td>\n",
       "      <td>-7.211393e-01</td>\n",
       "      <td>-7.043358e-01</td>\n",
       "      <td>-3.715299e-01</td>\n",
       "      <td>-4.250220e-01</td>\n",
       "      <td>-3.888249e-01</td>\n",
       "      <td>-4.689676e-01</td>\n",
       "      <td>-6.294799e-01</td>\n",
       "      <td>0.0</td>\n",
       "    </tr>\n",
       "    <tr>\n",
       "      <th>75%</th>\n",
       "      <td>4.331990e-01</td>\n",
       "      <td>6.056898e-01</td>\n",
       "      <td>4.291928e-01</td>\n",
       "      <td>4.418566e-01</td>\n",
       "      <td>4.390773e-01</td>\n",
       "      <td>4.408415e-01</td>\n",
       "      <td>1.048393e+00</td>\n",
       "      <td>5.040511e-01</td>\n",
       "      <td>9.575697e-01</td>\n",
       "      <td>6.487257e-01</td>\n",
       "      <td>4.586936e-01</td>\n",
       "      <td>4.363316e-01</td>\n",
       "      <td>6.041167e-01</td>\n",
       "      <td>4.320706e-01</td>\n",
       "      <td>4.466555e-01</td>\n",
       "      <td>4.174165e-01</td>\n",
       "      <td>0.0</td>\n",
       "    </tr>\n",
       "    <tr>\n",
       "      <th>max</th>\n",
       "      <td>2.316418e+00</td>\n",
       "      <td>6.056898e-01</td>\n",
       "      <td>2.261053e+00</td>\n",
       "      <td>2.144814e+00</td>\n",
       "      <td>2.221407e+00</td>\n",
       "      <td>2.116051e+00</td>\n",
       "      <td>1.256077e+00</td>\n",
       "      <td>2.330056e+00</td>\n",
       "      <td>1.585600e+00</td>\n",
       "      <td>2.703523e+00</td>\n",
       "      <td>2.203238e+00</td>\n",
       "      <td>2.309101e+00</td>\n",
       "      <td>2.765308e+00</td>\n",
       "      <td>2.221730e+00</td>\n",
       "      <td>2.203678e+00</td>\n",
       "      <td>1.987761e+00</td>\n",
       "      <td>0.0</td>\n",
       "    </tr>\n",
       "  </tbody>\n",
       "</table>\n",
       "</div>"
      ],
      "text/plain": [
       "            BALANCE  BALANCE_FREQUENCY     PURCHASES  ONEOFF_PURCHASES  \\\n",
       "count  8.636000e+03       8.636000e+03  8.636000e+03      8.636000e+03   \n",
       "mean  -2.048128e-15      -4.480411e-15 -2.387031e-15     -6.029632e-15   \n",
       "std    1.000058e+00       1.000058e+00  1.000058e+00      1.000058e+00   \n",
       "min   -9.172833e-01      -1.900785e+00 -8.400807e-01     -6.934480e-01   \n",
       "25%   -8.222803e-01      -3.969001e-01 -7.920474e-01     -6.934480e-01   \n",
       "50%   -3.291209e-01       6.056898e-01 -4.242867e-01     -6.081817e-01   \n",
       "75%    4.331990e-01       6.056898e-01  4.291928e-01      4.418566e-01   \n",
       "max    2.316418e+00       6.056898e-01  2.261053e+00      2.144814e+00   \n",
       "\n",
       "       INSTALLMENTS_PURCHASES  CASH_ADVANCE  PURCHASES_FREQUENCY  \\\n",
       "count            8.636000e+03  8.636000e+03         8.636000e+03   \n",
       "mean             1.977215e-15  3.596655e-16        -2.185028e-16   \n",
       "std              1.000058e+00  1.000058e+00         1.000058e+00   \n",
       "min             -7.491423e-01 -6.759645e-01        -1.236139e+00   \n",
       "25%             -7.491423e-01 -6.759645e-01        -1.028455e+00   \n",
       "50%             -5.165161e-01 -6.759645e-01         9.968862e-03   \n",
       "75%              4.390773e-01  4.408415e-01         1.048393e+00   \n",
       "max              2.221407e+00  2.116051e+00         1.256077e+00   \n",
       "\n",
       "       ONEOFF_PURCHASES_FREQUENCY  PURCHASES_INSTALLMENTS_FREQUENCY  \\\n",
       "count                8.636000e+03                      8.636000e+03   \n",
       "mean                -1.052773e-14                     -2.426601e-15   \n",
       "std                  1.000058e+00                      1.000058e+00   \n",
       "min                 -7.132856e-01                     -9.265216e-01   \n",
       "25%                 -7.132856e-01                     -9.265216e-01   \n",
       "50%                 -4.089523e-01                     -5.078338e-01   \n",
       "75%                  5.040511e-01                      9.575697e-01   \n",
       "max                  2.330056e+00                      1.585600e+00   \n",
       "\n",
       "       CASH_ADVANCE_FREQUENCY  CASH_ADVANCE_TRX  PURCHASES_TRX  CREDIT_LIMIT  \\\n",
       "count            8.636000e+03      8.636000e+03   8.636000e+03  8.636000e+03   \n",
       "mean             7.822213e-16      1.944292e-15   2.171029e-15  5.213523e-16   \n",
       "std              1.000058e+00      1.000058e+00   1.000058e+00  1.000058e+00   \n",
       "min             -7.211393e-01     -7.043358e-01  -8.856236e-01 -1.292439e+00   \n",
       "25%             -7.211393e-01     -7.043358e-01  -8.121816e-01 -8.366775e-01   \n",
       "50%             -7.211393e-01     -7.043358e-01  -3.715299e-01 -4.250220e-01   \n",
       "75%              6.487257e-01      4.586936e-01   4.363316e-01  6.041167e-01   \n",
       "max              2.703523e+00      2.203238e+00   2.309101e+00  2.765308e+00   \n",
       "\n",
       "           PAYMENTS  MINIMUM_PAYMENTS  PRC_FULL_PAYMENT  TENURE  \n",
       "count  8.636000e+03      8.636000e+03      8.636000e+03  8636.0  \n",
       "mean   2.285239e-16      2.325593e-15     -3.423655e-15     0.0  \n",
       "std    1.000058e+00      1.000058e+00      1.000058e+00     0.0  \n",
       "min   -1.086843e+00     -1.026563e+00     -6.294799e-01     0.0  \n",
       "25%   -7.610356e-01     -7.246931e-01     -6.294799e-01     0.0  \n",
       "50%   -3.888249e-01     -4.689676e-01     -6.294799e-01     0.0  \n",
       "75%    4.320706e-01      4.466555e-01      4.174165e-01     0.0  \n",
       "max    2.221730e+00      2.203678e+00      1.987761e+00     0.0  "
      ]
     },
     "execution_count": 15,
     "metadata": {},
     "output_type": "execute_result"
    }
   ],
   "source": [
    "std_data.describe()"
   ]
  },
  {
   "cell_type": "code",
   "execution_count": 16,
   "metadata": {},
   "outputs": [],
   "source": [
    "#pca\n",
    "pca = PCA(n_components=0.9, random_state=42)\n",
    "pca.fit(std_data)\n",
    "PC_names = ['PC'+str(x) for x in range(1,len(pca.components_)+1)]\n",
    "pca_data = pd.DataFrame(pca.transform(std_data), columns=PC_names)"
   ]
  },
  {
   "cell_type": "code",
   "execution_count": 17,
   "metadata": {},
   "outputs": [
    {
     "data": {
      "text/plain": [
       "<matplotlib.colorbar.Colorbar at 0x276a2e32790>"
      ]
     },
     "execution_count": 17,
     "metadata": {},
     "output_type": "execute_result"
    },
    {
     "data": {
      "image/png": "[encoded data removed]",
      "text/plain": [
       "<Figure size 1728x1152 with 2 Axes>"
      ]
     },
     "metadata": {
      "needs_background": "light"
     },
     "output_type": "display_data"
    }
   ],
   "source": [
    "fig, ax = plt.subplots(figsize=(24, 16))\n",
    "plt.imshow(pca.components_.T,\n",
    "           cmap=\"Spectral\",\n",
    "           vmin=-1,\n",
    "           vmax=1,\n",
    "          )\n",
    "plt.yticks(range(len(std_data.columns)), std_data.columns)\n",
    "plt.xticks(range(len(pca_data.columns)), pca_data.columns)\n",
    "plt.xlabel(\"Principal Component\")\n",
    "plt.ylabel(\"Contribution\")\n",
    "plt.title(\"Contribution of Features to Components\")\n",
    "plt.colorbar()"
   ]
  },
  {
   "cell_type": "code",
   "execution_count": 18,
   "metadata": {},
   "outputs": [
    {
     "data": {
      "image/png": "[encoded data removed]",
      "text/plain": [
       "<Figure size 432x288 with 2 Axes>"
      ]
     },
     "metadata": {},
     "output_type": "display_data"
    },
    {
     "data": {
      "text/plain": [
       "<AxesSubplot:title={'center':'Distortion Score Elbow for KMeans Clustering'}, xlabel='k', ylabel='distortion score'>"
      ]
     },
     "execution_count": 18,
     "metadata": {},
     "output_type": "execute_result"
    }
   ],
   "source": [
    "#mencari nilai K\n",
    "model = KMeans(random_state=42)\n",
    "distortion_visualizer = KElbowVisualizer(model, k=(2,10))\n",
    "\n",
    "distortion_visualizer.fit(pca_data)       \n",
    "distortion_visualizer.show()   "
   ]
  },
  {
   "cell_type": "code",
   "execution_count": 19,
   "metadata": {},
   "outputs": [],
   "source": [
    "km_model = KMeans(distortion_visualizer.elbow_value_, random_state=42)\n",
    "labels = km_model.fit_predict(pca_data)"
   ]
  },
  {
   "cell_type": "code",
   "execution_count": 23,
   "metadata": {},
   "outputs": [],
   "source": [
    "df['LABELS'] = labels\n",
    "std_data['LABELS'] = labels\n",
    "pca_data['LABELS'] = labels"
   ]
  },
  {
   "cell_type": "code",
   "execution_count": 24,
   "metadata": {},
   "outputs": [
    {
     "name": "stdout",
     "output_type": "stream",
     "text": [
      "Davies-Bouldin index = 1.1883977100189216\n",
      "Silhouette Score = 0.29991901939600185\n"
     ]
    }
   ],
   "source": [
    "print(f'Davies-Bouldin index = {davies_bouldin_score(pca_data, labels)}')\n",
    "print(f'Silhouette Score = {silhouette_score(pca_data, labels)}')"
   ]
  }
 ],
 "metadata": {
  "interpreter": {
   "hash": "380030d1298d5a27518acca789ff38fe82bbf2e68b73263de6a6bf23efb7704c"
  },
  "kernelspec": {
   "display_name": "Python 3.8.8 ('base')",
   "language": "python",
   "name": "python3"
  },
  "language_info": {
   "codemirror_mode": {
    "name": "ipython",
    "version": 3
   },
   "file_extension": ".py",
   "mimetype": "text/x-python",
   "name": "python",
   "nbconvert_exporter": "python",
   "pygments_lexer": "ipython3",
   "version": "3.8.8"
  },
  "orig_nbformat": 4
 },
 "nbformat": 4,
 "nbformat_minor": 2
}
